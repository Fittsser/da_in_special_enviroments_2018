{
 "cells": [
  {
   "cell_type": "markdown",
   "metadata": {},
   "source": [
    "* [Merge, join, and concatenate](https://pandas.pydata.org/pandas-docs/stable/merging.html)\n",
    "* [Reshaping and Pivot Tables](https://pandas.pydata.org/pandas-docs/stable/reshaping.html)\n",
    "* [Reshaping in Pandas - Pivot, Pivot-Table, Stack, and Unstack explained with Pictures](https://nikgrozev.com/2015/07/01/reshaping-in-pandas-pivot-pivot-table-stack-and-unstack-explained-with-pictures/)"
   ]
  },
  {
   "cell_type": "markdown",
   "metadata": {},
   "source": [
    "В приложенном zip-архиве находятся четыре файла, содержащие часть данных по одному из наших опросов. Это ответы на два вопроса – «Год рождения» (возраст) и «Что в онлайн-играх кажется Вам наиболее важным?» (игровая мотивация). Кроме того, в файлах есть сведения о том, из какой страны человек отвечал, на каком языке и на каком из четырёх игровых регионов (RU, EU, NA, SEA) он зарегистрирован. Один человек мог выбрать от одного до трёх вариантов ответа на второй вопрос. Несколько таких ответов записаны отдельными строками в файле answers.\n",
    "\n",
    "К отчёту желательно приложить скрипт обработки данных. Если что-то делалось отдельно от этого скрипта, упомянуть об этом в комментариях.\n",
    "\n",
    "Расшифровка вариантов ответа находится в отдельном файле options.\n",
    "\n",
    "Некоторые данные в файле responses могут быть пропущены – соответствующих респондентов можно игнорировать.\n",
    "\n",
    "Вам необходимо дать ответ на несколько вопросов:\n",
    "* Какова основная мотивация игроков?\n",
    "* Есть ли связь между возрастом и игровой мотивацией?\n",
    "* Как различается игровая мотивация в четырёх основных регионах?\n",
    "* Какие ещё исследовательские вопросы Вы могли бы поставить на основании этих данных и какими методами предлагаете их решать?\n",
    "\n",
    "Описание всех переменных, которые есть в файлах:\n",
    "* question_id\n",
    "* Question – номер вопроса\n",
    "* language (в файлах questions и options) – язык варианта ответа или текста вопроса в соответствующей строке\n",
    "* language (в файле responses) – язык, на котором участники отвечали на опрос option_id – идентификатор варианта ответа на вопрос\n",
    "* response_id – идентификатор респондента\n",
    "* title – формулировка вопроса\n",
    "* value – формулировка варианта ответа\n",
    "* REALM – регион (один из 4 вариантов), в котором игрок зарегистрирован -сountry – страна, из которой человек отвечал"
   ]
  },
  {
   "cell_type": "code",
   "execution_count": 150,
   "metadata": {
    "ExecuteTime": {
     "end_time": "2018-11-01T15:03:07.634067Z",
     "start_time": "2018-11-01T15:03:07.607931Z"
    }
   },
   "outputs": [],
   "source": [
    "import pandas as pd\n",
    "import numpy as np\n",
    "\n",
    "\n",
    "%matplotlib inline"
   ]
  },
  {
   "cell_type": "code",
   "execution_count": 2,
   "metadata": {
    "ExecuteTime": {
     "end_time": "2018-11-01T13:15:47.136798Z",
     "start_time": "2018-11-01T13:15:46.986673Z"
    }
   },
   "outputs": [],
   "source": [
    "options = pd.read_csv(\"../data/options.csv\")\n",
    "questions = pd.read_csv(\"../data/questions.csv\")\n",
    "test_answers = pd.read_csv(\"../data/test_answers.csv\")\n",
    "test_responses = pd.read_csv(\"../data/test_responses.csv\")"
   ]
  },
  {
   "cell_type": "markdown",
   "metadata": {},
   "source": [
    "# Подготовка данных"
   ]
  }
 ],
 "metadata": {
  "kernelspec": {
   "display_name": "Python 3",
   "language": "python",
   "name": "python3"
  },
  "language_info": {
   "codemirror_mode": {
    "name": "ipython",
    "version": 3
   },
   "file_extension": ".py",
   "mimetype": "text/x-python",
   "name": "python",
   "nbconvert_exporter": "python",
   "pygments_lexer": "ipython3",
   "version": "3.6.5"
  },
  "toc": {
   "nav_menu": {},
   "number_sections": true,
   "sideBar": true,
   "skip_h1_title": false,
   "toc_cell": false,
   "toc_position": {},
   "toc_section_display": "block",
   "toc_window_display": false
  },
  "varInspector": {
   "cols": {
    "lenName": 16,
    "lenType": 16,
    "lenVar": 40
   },
   "kernels_config": {
    "python": {
     "delete_cmd_postfix": "",
     "delete_cmd_prefix": "del ",
     "library": "var_list.py",
     "varRefreshCmd": "print(var_dic_list())"
    },
    "r": {
     "delete_cmd_postfix": ") ",
     "delete_cmd_prefix": "rm(",
     "library": "var_list.r",
     "varRefreshCmd": "cat(var_dic_list()) "
    }
   },
   "types_to_exclude": [
    "module",
    "function",
    "builtin_function_or_method",
    "instance",
    "_Feature"
   ],
   "window_display": false
  }
 },
 "nbformat": 4,
 "nbformat_minor": 2
}
