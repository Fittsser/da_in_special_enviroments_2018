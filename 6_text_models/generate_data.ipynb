{
 "cells": [
  {
   "cell_type": "code",
   "execution_count": 80,
   "metadata": {},
   "outputs": [],
   "source": [
    "from random import shuffle, randint\n",
    "from tqdm import tqdm_notebook\n",
    "import pandas as pd"
   ]
  },
  {
   "cell_type": "code",
   "execution_count": 44,
   "metadata": {},
   "outputs": [],
   "source": [
    "with open(\"data/2.txt\", encoding=\"cp1251\") as f:\n",
    "    txt = f.read()\n",
    "    \n",
    "import re\n",
    "from collections import Counter\n",
    "\n",
    "BOS = \"BOS\"\n",
    "EOS = \"EOS\"\n",
    "UNK = \"UNK\"\n",
    "\n",
    "def prepare_sentences(txt, word_threshold=2, stage_train=True):\n",
    "    \n",
    "    # заменяем многие пробелы на один\n",
    "    txt = re.sub(\"\\s+\", \" \", txt) \\\n",
    "        .lower() # и переводим в нижний регистр\n",
    "    \n",
    "    # заменяем символы переноса строки на пробелы (абзацы нам не нужны)\n",
    "    text = txt.replace(\"\\n\", \" \")\n",
    "    # разбиваем текст на предложения по знакам препинания\n",
    "    sentences = re.split(\"[!\\?\\.]+\", txt.replace(\"\\n\", \" \"))\n",
    "    \n",
    "    # оставляем только alphanumeric\n",
    "    # W — любой символ, кроме буквенного или цифрового символа или знака подчёркивания\n",
    "    clean_sentences = [re.split(\"\\W+\", s) for s in sentences]\n",
    "    \n",
    "    # заменяем числа на NUM\n",
    "    clean_sentences = [[w.replace(\"\\d+\", \"NUM\") for w in s if w] for s in clean_sentences]\n",
    "    \n",
    "    # вводим тег UNKNOWN: UNK\n",
    "    if stage_train:\n",
    "\n",
    "        counter = Counter()\n",
    "\n",
    "        for s in clean_sentences:\n",
    "            for w in s:\n",
    "                counter[w] += 1\n",
    "    \n",
    "        print(\"Filtered out word types :\", len([w for w in counter if counter[w] <= word_threshold]))\n",
    "        print(\"Filtered out words count:\", sum([counter[w] for w in counter if counter[w] <= word_threshold]))\n",
    "    \n",
    "        # выкидываем редкие, и заменяем их на специальный тег\n",
    "        clean_sentences = [[w if counter[w] > word_threshold else UNK for w in s] for s in clean_sentences]            \n",
    "    \n",
    "    word2index = { BOS: 0, EOS: 1, UNK: 2}\n",
    "    index2word = { 0: BOS, 1: EOS, 2: UNK}\n",
    "    \n",
    "    counter = max(word2index.values()) + 1\n",
    "\n",
    "    for s in clean_sentences:\n",
    "        for w in s:\n",
    "            if not w in word2index:\n",
    "                word2index[w] = counter\n",
    "                index2word[counter] = w\n",
    "                counter += 1\n",
    "                \n",
    "    return word2index, index2word, clean_sentences"
   ]
  },
  {
   "cell_type": "code",
   "execution_count": 45,
   "metadata": {},
   "outputs": [
    {
     "name": "stdout",
     "output_type": "stream",
     "text": [
      "Filtered out word types : 25498\n",
      "Filtered out words count: 31780\n",
      "Total number of sentences :\t 16662\n",
      "Total number of words     :\t 246974\n",
      "Total number of word types:\t 10117\n"
     ]
    }
   ],
   "source": [
    "word2index, index2word, clean_sentences = prepare_sentences(txt)\n",
    "\n",
    "print(\"Total number of sentences :\\t\", len(clean_sentences))\n",
    "print(\"Total number of words     :\\t\", sum([len(sent) for sent in clean_sentences]))\n",
    "print(\"Total number of word types:\\t\", len(set([w for sent in clean_sentences for w in sent])))"
   ]
  },
  {
   "cell_type": "code",
   "execution_count": 46,
   "metadata": {},
   "outputs": [],
   "source": [
    "def augment(sentence, context_size):\n",
    "    \"\"\"\n",
    "        Добиваем символы начала и конца строки к каждому предложению\n",
    "    \"\"\"\n",
    "    return [BOS] * context_size + sentence + [EOS] * context_size\n",
    "\n",
    "def enumerate_sentences(clean_sentences, context_size, word2index):\n",
    "    \"\"\"\n",
    "        Добиваем символами начала и конца и конвертируем слова в индексы\n",
    "    \"\"\"\n",
    "\n",
    "    contexts = []\n",
    "    targets = []\n",
    "    UNK_id = word2index[UNK]\n",
    "\n",
    "    for sentence in clean_sentences:\n",
    "\n",
    "        aligned_sentence =  augment(sentence, context_size) \n",
    "\n",
    "        for i in range(context_size, len(sentence) - context_size, 1):\n",
    "            \n",
    "            # берём предшествующий контекст\n",
    "            context = aligned_sentence[i - context_size:i]\n",
    "            context = [word2index[c] if c in word2index else UNK_id for c in context]\n",
    "            target = word2index[aligned_sentence[i]] if aligned_sentence[i] in word2index else UNK_id\n",
    "            \n",
    "            contexts.append(context)\n",
    "            targets.append(target)\n",
    "    \n",
    "    return contexts, targets"
   ]
  },
  {
   "cell_type": "code",
   "execution_count": 65,
   "metadata": {},
   "outputs": [
    {
     "data": {
      "application/vnd.jupyter.widget-view+json": {
       "model_id": "85c424d3c12f450a8eb8ecad65c44024",
       "version_major": 2,
       "version_minor": 0
      },
      "text/plain": [
       "HBox(children=(IntProgress(value=0, max=16662), HTML(value='')))"
      ]
     },
     "metadata": {},
     "output_type": "display_data"
    },
    {
     "name": "stdout",
     "output_type": "stream",
     "text": [
      "\n"
     ]
    }
   ],
   "source": [
    "txt = re.sub(\"\\s+\", \" \", txt) \\\n",
    "    .lower() # и переводим в нижний регистр\n",
    "\n",
    "# заменяем символы переноса строки на пробелы (абзацы нам не нужны)\n",
    "text = txt.replace(\"\\n\", \" \")\n",
    "# разбиваем текст на предложения по знакам препинания\n",
    "sentences = re.split(\"[!\\?\\.]+\", txt.replace(\"\\n\", \" \"))\n",
    "\n",
    "# оставляем только alphanumeric\n",
    "# W — любой символ, кроме буквенного или цифрового символа или знака подчёркивания\n",
    "clean_sentences = [re.sub(\"\\W+\", \" \", s).strip() for s in sentences]\n",
    "\n",
    "import pymorphy2\n",
    "morph = pymorphy2.MorphAnalyzer()\n",
    "\n",
    "lemm_sents = []\n",
    "for s in tqdm_notebook(clean_sentences):\n",
    "    new_sent = []\n",
    "    for w in s.split():\n",
    "        lemm = morph.parse(w)[0].normal_form\n",
    "        new_sent.append(lemm)\n",
    "    lemm_sents.append(\" \".join(new_sent))"
   ]
  },
  {
   "cell_type": "code",
   "execution_count": 66,
   "metadata": {},
   "outputs": [
    {
     "name": "stdout",
     "output_type": "stream",
     "text": [
      "я он два раз как ты видеть\n"
     ]
    }
   ],
   "source": [
    "print(lemm_sents[100])"
   ]
  },
  {
   "cell_type": "code",
   "execution_count": 67,
   "metadata": {},
   "outputs": [],
   "source": [
    "shuffled_sents = []\n",
    "\n",
    "for s in lemm_sents:\n",
    "    s = s.split()\n",
    "    shuffle(s)\n",
    "    shuffled_sents.append(\" \".join(s))"
   ]
  },
  {
   "cell_type": "code",
   "execution_count": 69,
   "metadata": {},
   "outputs": [
    {
     "data": {
      "text/plain": [
       "('тот армия 1811 начаться точно россия и который 1812 1811 кормить го сила год стягиваться двинуться этот год конец западный с европа год россия го к человек так восток в сила вооружение миллион и который считать сила к сосредоточение же с перевозить усиленный запад на и с граница',\n",
       " 'с конец 1811 го год начаться усиленный вооружение и сосредоточение сила западный европа и в 1812 год сила этот миллион человек считать тот который перевозить и кормить армия двинуться с запад на восток к граница россия к который точно так же с 1811 го год стягиваться сила россия')"
      ]
     },
     "execution_count": 69,
     "metadata": {},
     "output_type": "execute_result"
    }
   ],
   "source": [
    "shuffled_sents[0], lemm_sents[0]"
   ]
  },
  {
   "cell_type": "code",
   "execution_count": 126,
   "metadata": {},
   "outputs": [],
   "source": [
    "train = lemm_sents[:round(len(lemm_sents)*0.9)]\n",
    "test = list(zip(lemm_sents, shuffled_sents))[round(len(lemm_sents)*0.9):]"
   ]
  },
  {
   "cell_type": "code",
   "execution_count": 127,
   "metadata": {},
   "outputs": [
    {
     "data": {
      "text/plain": [
       "(14996, 1666)"
      ]
     },
     "execution_count": 127,
     "metadata": {},
     "output_type": "execute_result"
    }
   ],
   "source": [
    "len(train), len(test)"
   ]
  },
  {
   "cell_type": "code",
   "execution_count": 128,
   "metadata": {},
   "outputs": [
    {
     "data": {
      "text/html": [
       "<div>\n",
       "<style scoped>\n",
       "    .dataframe tbody tr th:only-of-type {\n",
       "        vertical-align: middle;\n",
       "    }\n",
       "\n",
       "    .dataframe tbody tr th {\n",
       "        vertical-align: top;\n",
       "    }\n",
       "\n",
       "    .dataframe thead th {\n",
       "        text-align: right;\n",
       "    }\n",
       "</style>\n",
       "<table border=\"1\" class=\"dataframe\">\n",
       "  <thead>\n",
       "    <tr style=\"text-align: right;\">\n",
       "      <th></th>\n",
       "      <th>true</th>\n",
       "    </tr>\n",
       "  </thead>\n",
       "  <tbody>\n",
       "    <tr>\n",
       "      <th>0</th>\n",
       "      <td>с конец 1811 го год начаться усиленный вооруже...</td>\n",
       "    </tr>\n",
       "    <tr>\n",
       "      <th>1</th>\n",
       "      <td>12 июнь сила западный европа переслать граница...</td>\n",
       "    </tr>\n",
       "    <tr>\n",
       "      <th>2</th>\n",
       "      <td>миллион человек совершать друг против друг так...</td>\n",
       "    </tr>\n",
       "    <tr>\n",
       "      <th>3</th>\n",
       "      <td>что произвести это необычайный событие</td>\n",
       "    </tr>\n",
       "    <tr>\n",
       "      <th>4</th>\n",
       "      <td>какой быть причина он</td>\n",
       "    </tr>\n",
       "  </tbody>\n",
       "</table>\n",
       "</div>"
      ],
      "text/plain": [
       "                                                true\n",
       "0  с конец 1811 го год начаться усиленный вооруже...\n",
       "1  12 июнь сила западный европа переслать граница...\n",
       "2  миллион человек совершать друг против друг так...\n",
       "3             что произвести это необычайный событие\n",
       "4                              какой быть причина он"
      ]
     },
     "execution_count": 128,
     "metadata": {},
     "output_type": "execute_result"
    }
   ],
   "source": [
    "df_train = pd.Series(train, name=\"true\").to_frame()\n",
    "df_train.head()"
   ]
  },
  {
   "cell_type": "code",
   "execution_count": 138,
   "metadata": {},
   "outputs": [],
   "source": [
    "df_train.to_csv(\"data/train.tsv\", sep=\"\\t\")"
   ]
  },
  {
   "cell_type": "code",
   "execution_count": 129,
   "metadata": {},
   "outputs": [],
   "source": [
    "labels = []\n",
    "for true, false in test:\n",
    "    if randint(0, 1):\n",
    "        labels.append((true, false, 1))\n",
    "    else:\n",
    "        labels.append((false, true, 0))"
   ]
  },
  {
   "cell_type": "code",
   "execution_count": 136,
   "metadata": {},
   "outputs": [
    {
     "data": {
      "text/html": [
       "<div>\n",
       "<style scoped>\n",
       "    .dataframe tbody tr th:only-of-type {\n",
       "        vertical-align: middle;\n",
       "    }\n",
       "\n",
       "    .dataframe tbody tr th {\n",
       "        vertical-align: top;\n",
       "    }\n",
       "\n",
       "    .dataframe thead th {\n",
       "        text-align: right;\n",
       "    }\n",
       "</style>\n",
       "<table border=\"1\" class=\"dataframe\">\n",
       "  <thead>\n",
       "    <tr style=\"text-align: right;\">\n",
       "      <th></th>\n",
       "      <th>text1</th>\n",
       "      <th>text2</th>\n",
       "      <th>label</th>\n",
       "    </tr>\n",
       "  </thead>\n",
       "  <tbody>\n",
       "    <tr>\n",
       "      <th>0</th>\n",
       "      <td>что есть власть</td>\n",
       "      <td>что власть есть</td>\n",
       "      <td>1</td>\n",
       "    </tr>\n",
       "    <tr>\n",
       "      <th>1</th>\n",
       "      <td>власть есть совокупность воля перенести на оди...</td>\n",
       "      <td>лицо воля один перенести есть власть совокупно...</td>\n",
       "      <td>1</td>\n",
       "    </tr>\n",
       "    <tr>\n",
       "      <th>2</th>\n",
       "      <td>какой переноситься при на воля условие лицо ма...</td>\n",
       "      <td>при какой условие переноситься воля масса на о...</td>\n",
       "      <td>0</td>\n",
       "    </tr>\n",
       "    <tr>\n",
       "      <th>3</th>\n",
       "      <td>при условие выражение лицо воля весь человек</td>\n",
       "      <td>лицо воля выражение человек весь условие при</td>\n",
       "      <td>1</td>\n",
       "    </tr>\n",
       "    <tr>\n",
       "      <th>4</th>\n",
       "      <td>власть то есть есть власть</td>\n",
       "      <td>то есть власть есть власть</td>\n",
       "      <td>0</td>\n",
       "    </tr>\n",
       "  </tbody>\n",
       "</table>\n",
       "</div>"
      ],
      "text/plain": [
       "                                               text1  \\\n",
       "0                                    что есть власть   \n",
       "1  власть есть совокупность воля перенести на оди...   \n",
       "2  какой переноситься при на воля условие лицо ма...   \n",
       "3       при условие выражение лицо воля весь человек   \n",
       "4                         власть то есть есть власть   \n",
       "\n",
       "                                               text2  label  \n",
       "0                                    что власть есть      1  \n",
       "1  лицо воля один перенести есть власть совокупно...      1  \n",
       "2  при какой условие переноситься воля масса на о...      0  \n",
       "3       лицо воля выражение человек весь условие при      1  \n",
       "4                         то есть власть есть власть      0  "
      ]
     },
     "execution_count": 136,
     "metadata": {},
     "output_type": "execute_result"
    }
   ],
   "source": [
    "df_test = pd.DataFrame().from_records(labels, columns=[\"text1\", \"text2\", \"label\"])\n",
    "df_test.head()"
   ]
  },
  {
   "cell_type": "code",
   "execution_count": 139,
   "metadata": {},
   "outputs": [],
   "source": [
    "df_test.drop(\"label\", 1).to_csv(\"data/task.tsv\", sep=\"\\t\")"
   ]
  },
  {
   "cell_type": "code",
   "execution_count": 141,
   "metadata": {},
   "outputs": [],
   "source": [
    "df_test[\"label\"].to_csv(\"data/true_labels.tsv\", sep=\"\\t\", index=False)"
   ]
  },
  {
   "cell_type": "code",
   "execution_count": null,
   "metadata": {},
   "outputs": [],
   "source": []
  }
 ],
 "metadata": {
  "kernelspec": {
   "display_name": "Python 3",
   "language": "python",
   "name": "python3"
  },
  "language_info": {
   "codemirror_mode": {
    "name": "ipython",
    "version": 3
   },
   "file_extension": ".py",
   "mimetype": "text/x-python",
   "name": "python",
   "nbconvert_exporter": "python",
   "pygments_lexer": "ipython3",
   "version": "3.7.1"
  }
 },
 "nbformat": 4,
 "nbformat_minor": 2
}
